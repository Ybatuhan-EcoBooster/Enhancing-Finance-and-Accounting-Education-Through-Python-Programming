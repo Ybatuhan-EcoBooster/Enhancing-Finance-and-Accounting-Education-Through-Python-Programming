{
 "cells": [
  {
   "cell_type": "markdown",
   "metadata": {},
   "source": [
    "# Libraries"
   ]
  },
  {
   "cell_type": "code",
   "execution_count": 1,
   "metadata": {},
   "outputs": [],
   "source": [
    "# Core Libraries \n",
    "import pandas as pd\n",
    "import datetime\n",
    "import requests\n",
    "from requests.exceptions import ConnectionError\n",
    "from bs4 import BeautifulSoup\n"
   ]
  },
  {
   "cell_type": "markdown",
   "metadata": {},
   "source": [
    "* Libraries Version "
   ]
  },
  {
   "cell_type": "code",
   "execution_count": 2,
   "metadata": {},
   "outputs": [
    {
     "name": "stdout",
     "output_type": "stream",
     "text": [
      "Pandas Version: 2.0.2 \n",
      " ----\n",
      "Requests Version: 2.31.0\n"
     ]
    }
   ],
   "source": [
    "print(f\"Pandas Version: {pd.__version__} \\n ----\")\n",
    "print(f\"Requests Version: {requests.__version__}\")"
   ]
  },
  {
   "cell_type": "markdown",
   "metadata": {},
   "source": [
    "**All Website is News website, not a code website**"
   ]
  },
  {
   "attachments": {},
   "cell_type": "markdown",
   "metadata": {},
   "source": [
    "# Money CNN"
   ]
  },
  {
   "attachments": {},
   "cell_type": "markdown",
   "metadata": {},
   "source": [
    "[CNN Website](https://edition.cnn.com/business)"
   ]
  },
  {
   "cell_type": "code",
   "execution_count": 4,
   "metadata": {},
   "outputs": [],
   "source": [
    "def RealTimePrice(self):\n",
    "    try:\n",
    "        web_url = \"https://money.cnn.com/quote/quote.html?utm_source=quote_search&symb=\" + self\n",
    "        web_request = requests.get(web_url)\n",
    "\n",
    "        content = BeautifulSoup(web_request.text, \"lxml\")\n",
    "\n",
    "        Data = content.find(\"td\", {\"class\":\"wsod_change\"})\n",
    "        Data = Data.find_all(\"span\")\n",
    "        \n",
    "        Price_Change = Data[2].get_text()\n",
    "        Price_Change_Per = Data[-1].get_text()\n",
    "        \n",
    "\n",
    "        RealTimePrice = [Price_Change,Price_Change_Per]\n",
    "    \n",
    "    except IndexError:\n",
    "         RealTimePrice = []\n",
    "    \n",
    "    return RealTimePrice\n",
    "    "
   ]
  },
  {
   "cell_type": "code",
   "execution_count": 5,
   "metadata": {},
   "outputs": [
    {
     "data": {
      "text/plain": [
       "['+1.47', '+3.29%']"
      ]
     },
     "execution_count": 5,
     "metadata": {},
     "output_type": "execute_result"
    }
   ],
   "source": [
    "RealTimePrice(\"C\")"
   ]
  },
  {
   "attachments": {},
   "cell_type": "markdown",
   "metadata": {},
   "source": [
    "# Investing.com"
   ]
  },
  {
   "attachments": {},
   "cell_type": "markdown",
   "metadata": {},
   "source": [
    "[Investing.com Website](https://www.investing.com/)"
   ]
  },
  {
   "cell_type": "code",
   "execution_count": 11,
   "metadata": {},
   "outputs": [
    {
     "data": {
      "text/plain": [
       "<div class=\"text-xl flex items-end flex-wrap\"><span class=\"instrument-price_change-value__h13Qh ml-2.5 text-positive-main\" data-test=\"instrument-price-change\">+<!-- -->7.25</span><span class=\"instrument-price_change-percent__bT4yt ml-2.5 text-positive-main\" data-test=\"instrument-price-change-percent\">(<!-- -->+<!-- -->2.29<!-- -->%)</span></div>"
      ]
     },
     "execution_count": 11,
     "metadata": {},
     "output_type": "execute_result"
    }
   ],
   "source": [
    "web_url = \"https://www.investing.com/equities/goldman-sachs-group\"\n",
    "web_request = requests.get(web_url)\n",
    "\n",
    "content = BeautifulSoup(web_request.text, \"lxml\")\n",
    "\n",
    "Data = content.find(\"div\",{\"class\":\"text-xl flex items-end flex-wrap\"})\n",
    "Data"
   ]
  },
  {
   "cell_type": "code",
   "execution_count": 12,
   "metadata": {},
   "outputs": [
    {
     "data": {
      "text/plain": [
       "'+7.25(+2.29%)'"
      ]
     },
     "execution_count": 12,
     "metadata": {},
     "output_type": "execute_result"
    }
   ],
   "source": [
    "Data.get_text()"
   ]
  }
 ],
 "metadata": {
  "kernelspec": {
   "display_name": "Python 3",
   "language": "python",
   "name": "python3"
  },
  "language_info": {
   "codemirror_mode": {
    "name": "ipython",
    "version": 3
   },
   "file_extension": ".py",
   "mimetype": "text/x-python",
   "name": "python",
   "nbconvert_exporter": "python",
   "pygments_lexer": "ipython3",
   "version": "3.9.5"
  },
  "orig_nbformat": 4
 },
 "nbformat": 4,
 "nbformat_minor": 2
}
