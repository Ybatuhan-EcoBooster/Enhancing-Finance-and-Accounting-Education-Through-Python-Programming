{
 "cells": [
  {
   "cell_type": "markdown",
   "metadata": {},
   "source": [
    "### Decorators"
   ]
  },
  {
   "cell_type": "markdown",
   "metadata": {},
   "source": [
    "A Python Decorator provides a concise and reusable way for extending a function or a class."
   ]
  },
  {
   "cell_type": "markdown",
   "metadata": {},
   "source": [
    "**Bare bone decorator**\n",
    "\n",
    "A decorator in its simplest form is a function that takes another function as an argument and returns a wrapper. The following example shows the creation of a decorator and its usage."
   ]
  },
  {
   "cell_type": "code",
   "execution_count": 6,
   "metadata": {},
   "outputs": [],
   "source": [
    "def your_decorator(func):\n",
    "  def wrapper():\n",
    "    # Do stuff before func...\n",
    "    print(\"Before func!\")\n",
    "    func()\n",
    "    # Do stuff after func...\n",
    "    print(\"After func!\")\n",
    "  return wrapper\n",
    "\n",
    "@your_decorator\n",
    "def foo():\n",
    "  print(\"Hello World!\")"
   ]
  },
  {
   "cell_type": "code",
   "execution_count": 7,
   "metadata": {},
   "outputs": [
    {
     "name": "stdout",
     "output_type": "stream",
     "text": [
      "Before func!\n",
      "Hello World!\n",
      "After func!\n",
      "None\n"
     ]
    }
   ],
   "source": [
    "print(foo())"
   ]
  },
  {
   "cell_type": "markdown",
   "metadata": {},
   "source": [
    "### Decorator for a function with parameter"
   ]
  },
  {
   "cell_type": "code",
   "execution_count": 8,
   "metadata": {},
   "outputs": [
    {
     "name": "stdout",
     "output_type": "stream",
     "text": [
      "Before func!\n",
      "My name is Jack\n",
      "After func!\n"
     ]
    }
   ],
   "source": [
    "def your_decorator(func):\n",
    "  def wrapper(*args,**kwargs):\n",
    "    # Do stuff before func...\n",
    "    print(\"Before func!\") \n",
    "    func(*args,**kwargs)\n",
    "    # Do stuff after func...\n",
    "    print(\"After func!\")\n",
    "  return wrapper\n",
    "\n",
    "@your_decorator\n",
    "def foo(bar):\n",
    "  print(\"My name is \" + bar)\n",
    "\n",
    "foo(\"Jack\")"
   ]
  },
  {
   "cell_type": "markdown",
   "metadata": {},
   "source": [
    "### Template for a basic decorator"
   ]
  },
  {
   "cell_type": "markdown",
   "metadata": {},
   "source": [
    "This template is useful for most decorator use-cases. It is valid for functions with or without parameters, and with or without a return value."
   ]
  },
  {
   "cell_type": "code",
   "execution_count": 11,
   "metadata": {},
   "outputs": [
    {
     "name": "stdout",
     "output_type": "stream",
     "text": [
      "My name is Jack\n"
     ]
    }
   ],
   "source": [
    "import functools\n",
    "\n",
    "def your_decorator(func):\n",
    "  @functools.wraps(func) # For preserving the metadata of func.\n",
    "  def wrapper(*args,**kwargs):\n",
    "    # Do stuff before func...\n",
    "    result = func(*args,**kwargs)\n",
    "    # Do stuff after func..\n",
    "    return result\n",
    "  return wrapper\n",
    "\n",
    "@your_decorator\n",
    "def foo(bar):\n",
    "  print(\"My name is \" + bar)\n",
    "\n",
    "foo(\"Jack\")"
   ]
  },
  {
   "cell_type": "markdown",
   "metadata": {},
   "source": [
    "### Class based decorators\n",
    "\n",
    "A decorator can also be defined as a class instead of a method. This is useful for maintaining and updating a state, such as in the following example, where we count the number of calls made to a method:"
   ]
  },
  {
   "cell_type": "code",
   "execution_count": 10,
   "metadata": {},
   "outputs": [
    {
     "name": "stdout",
     "output_type": "stream",
     "text": [
      "This is execution number 1\n",
      "Hi! My name is Jack\n"
     ]
    }
   ],
   "source": [
    "class CountCallNumber:\n",
    "\n",
    "  def __init__(self, func):\n",
    "    self.func = func\n",
    "    self.call_number = 0\n",
    "\n",
    "  def __call__(self, *args, **kwargs):\n",
    "    self.call_number += 1\n",
    "    print(\"This is execution number \" + str(self.call_number))\n",
    "    return self.func(*args, **kwargs)\n",
    "\n",
    "@CountCallNumber\n",
    "def say_hi(name):\n",
    "  print(\"Hi! My name is \" + name)\n",
    "\n",
    "say_hi(\"Jack\")"
   ]
  }
 ],
 "metadata": {
  "kernelspec": {
   "display_name": "Python 3",
   "language": "python",
   "name": "python3"
  },
  "language_info": {
   "codemirror_mode": {
    "name": "ipython",
    "version": 3
   },
   "file_extension": ".py",
   "mimetype": "text/x-python",
   "name": "python",
   "nbconvert_exporter": "python",
   "pygments_lexer": "ipython3",
   "version": "3.11.7"
  }
 },
 "nbformat": 4,
 "nbformat_minor": 2
}
