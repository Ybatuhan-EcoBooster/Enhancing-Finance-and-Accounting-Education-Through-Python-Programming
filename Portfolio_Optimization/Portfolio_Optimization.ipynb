{
 "cells": [
  {
   "cell_type": "markdown",
   "metadata": {},
   "source": [
    "# Portfolio Optimization"
   ]
  },
  {
   "cell_type": "markdown",
   "metadata": {},
   "source": [
    "### Libraries"
   ]
  },
  {
   "cell_type": "code",
   "execution_count": 3,
   "metadata": {},
   "outputs": [],
   "source": [
    "# Core Libraries \n",
    "import pandas as pd\n",
    "\n",
    "import numpy as np\n",
    "\n",
    "# Data Sets\n",
    "import yfinance as yf\n",
    "\n",
    "# Date Opitimization\n",
    "import datetime"
   ]
  },
  {
   "cell_type": "markdown",
   "metadata": {},
   "source": [
    "We will pull stock price data using the Yahoo Finance library. You can easily install the library using pip in a terminal command line"
   ]
  },
  {
   "cell_type": "code",
   "execution_count": 6,
   "metadata": {},
   "outputs": [],
   "source": [
    "start_date = \"2019-01-01\""
   ]
  },
  {
   "cell_type": "markdown",
   "metadata": {},
   "source": [
    "We should pull stocks from a few different industries, so we’ll gather price data in healthcare, tech, retail and finance."
   ]
  },
  {
   "cell_type": "markdown",
   "metadata": {},
   "source": [
    "Let’s wrap this logic in a function that we can easily reuse since we will be pulling several stocks:"
   ]
  },
  {
   "cell_type": "code",
   "execution_count": 9,
   "metadata": {},
   "outputs": [],
   "source": [
    "def get_stock(ticker):\n",
    "    data = yf.download(ticker)\n",
    "    \n",
    "    data = data[data.index >= start_date]\n",
    "    \n",
    "    data[f'{ticker}'] = data[\"Close\"]\n",
    "    \n",
    "    data = data[[f'{ticker}']] \n",
    "    \n",
    "    print(data.head())\n",
    "    \n",
    "    return data "
   ]
  },
  {
   "cell_type": "code",
   "execution_count": 10,
   "metadata": {},
   "outputs": [
    {
     "name": "stderr",
     "output_type": "stream",
     "text": [
      "[*********************100%%**********************]  1 of 1 completed"
     ]
    },
    {
     "name": "stdout",
     "output_type": "stream",
     "text": [
      "                 MRNA\n",
      "Date                 \n",
      "2019-01-02  15.330000\n",
      "2019-01-03  15.500000\n",
      "2019-01-04  16.959999\n",
      "2019-01-07  16.270000\n",
      "2019-01-08  16.950001\n"
     ]
    },
    {
     "name": "stderr",
     "output_type": "stream",
     "text": [
      "\n",
      "C:\\Users\\Batuhan\\AppData\\Local\\Temp\\ipykernel_153036\\3781743562.py:4: SettingWithCopyWarning: \n",
      "A value is trying to be set on a copy of a slice from a DataFrame.\n",
      "Try using .loc[row_indexer,col_indexer] = value instead\n",
      "\n",
      "See the caveats in the documentation: https://pandas.pydata.org/pandas-docs/stable/user_guide/indexing.html#returning-a-view-versus-a-copy\n",
      "  data[f'{ticker}'] = data[\"Close\"]\n"
     ]
    },
    {
     "data": {
      "text/html": [
       "<div>\n",
       "<style scoped>\n",
       "    .dataframe tbody tr th:only-of-type {\n",
       "        vertical-align: middle;\n",
       "    }\n",
       "\n",
       "    .dataframe tbody tr th {\n",
       "        vertical-align: top;\n",
       "    }\n",
       "\n",
       "    .dataframe thead th {\n",
       "        text-align: right;\n",
       "    }\n",
       "</style>\n",
       "<table border=\"1\" class=\"dataframe\">\n",
       "  <thead>\n",
       "    <tr style=\"text-align: right;\">\n",
       "      <th></th>\n",
       "      <th>MRNA</th>\n",
       "    </tr>\n",
       "    <tr>\n",
       "      <th>Date</th>\n",
       "      <th></th>\n",
       "    </tr>\n",
       "  </thead>\n",
       "  <tbody>\n",
       "    <tr>\n",
       "      <th>2019-01-02</th>\n",
       "      <td>15.330000</td>\n",
       "    </tr>\n",
       "    <tr>\n",
       "      <th>2019-01-03</th>\n",
       "      <td>15.500000</td>\n",
       "    </tr>\n",
       "    <tr>\n",
       "      <th>2019-01-04</th>\n",
       "      <td>16.959999</td>\n",
       "    </tr>\n",
       "    <tr>\n",
       "      <th>2019-01-07</th>\n",
       "      <td>16.270000</td>\n",
       "    </tr>\n",
       "    <tr>\n",
       "      <th>2019-01-08</th>\n",
       "      <td>16.950001</td>\n",
       "    </tr>\n",
       "    <tr>\n",
       "      <th>...</th>\n",
       "      <td>...</td>\n",
       "    </tr>\n",
       "    <tr>\n",
       "      <th>2024-03-04</th>\n",
       "      <td>96.000000</td>\n",
       "    </tr>\n",
       "    <tr>\n",
       "      <th>2024-03-05</th>\n",
       "      <td>95.559998</td>\n",
       "    </tr>\n",
       "    <tr>\n",
       "      <th>2024-03-06</th>\n",
       "      <td>98.099998</td>\n",
       "    </tr>\n",
       "    <tr>\n",
       "      <th>2024-03-07</th>\n",
       "      <td>99.480003</td>\n",
       "    </tr>\n",
       "    <tr>\n",
       "      <th>2024-03-08</th>\n",
       "      <td>103.029999</td>\n",
       "    </tr>\n",
       "  </tbody>\n",
       "</table>\n",
       "<p>1305 rows × 1 columns</p>\n",
       "</div>"
      ],
      "text/plain": [
       "                  MRNA\n",
       "Date                  \n",
       "2019-01-02   15.330000\n",
       "2019-01-03   15.500000\n",
       "2019-01-04   16.959999\n",
       "2019-01-07   16.270000\n",
       "2019-01-08   16.950001\n",
       "...                ...\n",
       "2024-03-04   96.000000\n",
       "2024-03-05   95.559998\n",
       "2024-03-06   98.099998\n",
       "2024-03-07   99.480003\n",
       "2024-03-08  103.029999\n",
       "\n",
       "[1305 rows x 1 columns]"
      ]
     },
     "execution_count": 10,
     "metadata": {},
     "output_type": "execute_result"
    }
   ],
   "source": [
    "get_stock(\"MRNA\")"
   ]
  },
  {
   "cell_type": "markdown",
   "metadata": {},
   "source": [
    "Let’s define another function that takes a list of stocks and generate a single data frame of stock prices for each stock:"
   ]
  },
  {
   "cell_type": "code",
   "execution_count": 11,
   "metadata": {},
   "outputs": [
    {
     "name": "stderr",
     "output_type": "stream",
     "text": [
      "[*********************100%%**********************]  1 of 1 completed\n",
      "C:\\Users\\Batuhan\\AppData\\Local\\Temp\\ipykernel_153036\\3781743562.py:4: SettingWithCopyWarning: \n",
      "A value is trying to be set on a copy of a slice from a DataFrame.\n",
      "Try using .loc[row_indexer,col_indexer] = value instead\n",
      "\n",
      "See the caveats in the documentation: https://pandas.pydata.org/pandas-docs/stable/user_guide/indexing.html#returning-a-view-versus-a-copy\n",
      "  data[f'{ticker}'] = data[\"Close\"]\n"
     ]
    },
    {
     "name": "stdout",
     "output_type": "stream",
     "text": [
      "                 MRNA\n",
      "Date                 \n",
      "2019-01-02  15.330000\n",
      "2019-01-03  15.500000\n",
      "2019-01-04  16.959999\n",
      "2019-01-07  16.270000\n",
      "2019-01-08  16.950001\n"
     ]
    },
    {
     "name": "stderr",
     "output_type": "stream",
     "text": [
      "[*********************100%%**********************]  1 of 1 completed\n",
      "C:\\Users\\Batuhan\\AppData\\Local\\Temp\\ipykernel_153036\\3781743562.py:4: SettingWithCopyWarning: \n",
      "A value is trying to be set on a copy of a slice from a DataFrame.\n",
      "Try using .loc[row_indexer,col_indexer] = value instead\n",
      "\n",
      "See the caveats in the documentation: https://pandas.pydata.org/pandas-docs/stable/user_guide/indexing.html#returning-a-view-versus-a-copy\n",
      "  data[f'{ticker}'] = data[\"Close\"]\n"
     ]
    },
    {
     "name": "stdout",
     "output_type": "stream",
     "text": [
      "                  PFE\n",
      "Date                 \n",
      "2019-01-02  41.034157\n",
      "2019-01-03  39.886147\n",
      "2019-01-04  40.796963\n",
      "2019-01-07  41.015179\n",
      "2019-01-08  41.204933\n"
     ]
    },
    {
     "name": "stderr",
     "output_type": "stream",
     "text": [
      "[*********************100%%**********************]  1 of 1 completed"
     ]
    },
    {
     "name": "stdout",
     "output_type": "stream",
     "text": [
      "                   JNJ\n",
      "Date                  \n",
      "2019-01-02  127.750000\n",
      "2019-01-03  125.720001\n",
      "2019-01-04  127.830002\n",
      "2019-01-07  127.010002\n",
      "2019-01-08  129.960007\n",
      "                 MRNA        PFE         JNJ\n",
      "Date                                        \n",
      "2019-01-02  15.330000  41.034157  127.750000\n",
      "2019-01-03  15.500000  39.886147  125.720001\n",
      "2019-01-04  16.959999  40.796963  127.830002\n",
      "2019-01-07  16.270000  41.015179  127.010002\n",
      "2019-01-08  16.950001  41.204933  129.960007\n"
     ]
    },
    {
     "name": "stderr",
     "output_type": "stream",
     "text": [
      "\n",
      "C:\\Users\\Batuhan\\AppData\\Local\\Temp\\ipykernel_153036\\3781743562.py:4: SettingWithCopyWarning: \n",
      "A value is trying to be set on a copy of a slice from a DataFrame.\n",
      "Try using .loc[row_indexer,col_indexer] = value instead\n",
      "\n",
      "See the caveats in the documentation: https://pandas.pydata.org/pandas-docs/stable/user_guide/indexing.html#returning-a-view-versus-a-copy\n",
      "  data[f'{ticker}'] = data[\"Close\"]\n"
     ]
    },
    {
     "data": {
      "text/html": [
       "<div>\n",
       "<style scoped>\n",
       "    .dataframe tbody tr th:only-of-type {\n",
       "        vertical-align: middle;\n",
       "    }\n",
       "\n",
       "    .dataframe tbody tr th {\n",
       "        vertical-align: top;\n",
       "    }\n",
       "\n",
       "    .dataframe thead th {\n",
       "        text-align: right;\n",
       "    }\n",
       "</style>\n",
       "<table border=\"1\" class=\"dataframe\">\n",
       "  <thead>\n",
       "    <tr style=\"text-align: right;\">\n",
       "      <th></th>\n",
       "      <th>MRNA</th>\n",
       "      <th>PFE</th>\n",
       "      <th>JNJ</th>\n",
       "    </tr>\n",
       "    <tr>\n",
       "      <th>Date</th>\n",
       "      <th></th>\n",
       "      <th></th>\n",
       "      <th></th>\n",
       "    </tr>\n",
       "  </thead>\n",
       "  <tbody>\n",
       "    <tr>\n",
       "      <th>2019-01-02</th>\n",
       "      <td>15.330000</td>\n",
       "      <td>41.034157</td>\n",
       "      <td>127.750000</td>\n",
       "    </tr>\n",
       "    <tr>\n",
       "      <th>2019-01-03</th>\n",
       "      <td>15.500000</td>\n",
       "      <td>39.886147</td>\n",
       "      <td>125.720001</td>\n",
       "    </tr>\n",
       "    <tr>\n",
       "      <th>2019-01-04</th>\n",
       "      <td>16.959999</td>\n",
       "      <td>40.796963</td>\n",
       "      <td>127.830002</td>\n",
       "    </tr>\n",
       "    <tr>\n",
       "      <th>2019-01-07</th>\n",
       "      <td>16.270000</td>\n",
       "      <td>41.015179</td>\n",
       "      <td>127.010002</td>\n",
       "    </tr>\n",
       "    <tr>\n",
       "      <th>2019-01-08</th>\n",
       "      <td>16.950001</td>\n",
       "      <td>41.204933</td>\n",
       "      <td>129.960007</td>\n",
       "    </tr>\n",
       "    <tr>\n",
       "      <th>...</th>\n",
       "      <td>...</td>\n",
       "      <td>...</td>\n",
       "      <td>...</td>\n",
       "    </tr>\n",
       "    <tr>\n",
       "      <th>2024-03-04</th>\n",
       "      <td>96.000000</td>\n",
       "      <td>25.889999</td>\n",
       "      <td>159.839996</td>\n",
       "    </tr>\n",
       "    <tr>\n",
       "      <th>2024-03-05</th>\n",
       "      <td>95.559998</td>\n",
       "      <td>26.080000</td>\n",
       "      <td>159.970001</td>\n",
       "    </tr>\n",
       "    <tr>\n",
       "      <th>2024-03-06</th>\n",
       "      <td>98.099998</td>\n",
       "      <td>27.190001</td>\n",
       "      <td>159.339996</td>\n",
       "    </tr>\n",
       "    <tr>\n",
       "      <th>2024-03-07</th>\n",
       "      <td>99.480003</td>\n",
       "      <td>26.790001</td>\n",
       "      <td>158.869995</td>\n",
       "    </tr>\n",
       "    <tr>\n",
       "      <th>2024-03-08</th>\n",
       "      <td>103.029999</td>\n",
       "      <td>27.219999</td>\n",
       "      <td>159.520004</td>\n",
       "    </tr>\n",
       "  </tbody>\n",
       "</table>\n",
       "<p>1305 rows × 3 columns</p>\n",
       "</div>"
      ],
      "text/plain": [
       "                  MRNA        PFE         JNJ\n",
       "Date                                         \n",
       "2019-01-02   15.330000  41.034157  127.750000\n",
       "2019-01-03   15.500000  39.886147  125.720001\n",
       "2019-01-04   16.959999  40.796963  127.830002\n",
       "2019-01-07   16.270000  41.015179  127.010002\n",
       "2019-01-08   16.950001  41.204933  129.960007\n",
       "...                ...        ...         ...\n",
       "2024-03-04   96.000000  25.889999  159.839996\n",
       "2024-03-05   95.559998  26.080000  159.970001\n",
       "2024-03-06   98.099998  27.190001  159.339996\n",
       "2024-03-07   99.480003  26.790001  158.869995\n",
       "2024-03-08  103.029999  27.219999  159.520004\n",
       "\n",
       "[1305 rows x 3 columns]"
      ]
     },
     "execution_count": 11,
     "metadata": {},
     "output_type": "execute_result"
    }
   ],
   "source": [
    "from functools import reduce\n",
    "\n",
    "def combine_stocks(tickers):\n",
    "    data_frames = []\n",
    "    for i in tickers:\n",
    "        data_frames.append(get_stock(i))\n",
    "        \n",
    "    df_merged = reduce(lambda  left,right: pd.merge(left,right,on=['Date'], how='outer'), data_frames)\n",
    "    print(df_merged.head())\n",
    "    return df_merged\n",
    "\n",
    "\n",
    "stocks = [\"MRNA\", \"PFE\", \"JNJ\"]\n",
    "combine_stocks(stocks)"
   ]
  },
  {
   "cell_type": "markdown",
   "metadata": {},
   "source": [
    "Healthcare: Moderna (MRNA), Pfizer (PFE), Johnson & Johnson (JNJ)\n",
    "\n",
    "Tech: Google (GOOGL),  Microsoft (MSFT), Apple (AAPL)\n",
    "\n",
    "Retail: Costco (COST), Walmart (WMT),  Kroger Co (KR)\n",
    "\n",
    "Finance: JPMorgan Chase & Co (JPM), Bank of America (BAC), HSBC Holding (HSBC)"
   ]
  },
  {
   "cell_type": "code",
   "execution_count": 19,
   "metadata": {},
   "outputs": [
    {
     "name": "stderr",
     "output_type": "stream",
     "text": [
      "[*********************100%%**********************]  1 of 1 completed\n",
      "C:\\Users\\Batuhan\\AppData\\Local\\Temp\\ipykernel_153036\\3781743562.py:4: SettingWithCopyWarning: \n",
      "A value is trying to be set on a copy of a slice from a DataFrame.\n",
      "Try using .loc[row_indexer,col_indexer] = value instead\n",
      "\n",
      "See the caveats in the documentation: https://pandas.pydata.org/pandas-docs/stable/user_guide/indexing.html#returning-a-view-versus-a-copy\n",
      "  data[f'{ticker}'] = data[\"Close\"]\n"
     ]
    },
    {
     "name": "stdout",
     "output_type": "stream",
     "text": [
      "                 MRNA\n",
      "Date                 \n",
      "2019-01-02  15.330000\n",
      "2019-01-03  15.500000\n",
      "2019-01-04  16.959999\n",
      "2019-01-07  16.270000\n",
      "2019-01-08  16.950001\n"
     ]
    },
    {
     "name": "stderr",
     "output_type": "stream",
     "text": [
      "[*********************100%%**********************]  1 of 1 completed\n",
      "C:\\Users\\Batuhan\\AppData\\Local\\Temp\\ipykernel_153036\\3781743562.py:4: SettingWithCopyWarning: \n",
      "A value is trying to be set on a copy of a slice from a DataFrame.\n",
      "Try using .loc[row_indexer,col_indexer] = value instead\n",
      "\n",
      "See the caveats in the documentation: https://pandas.pydata.org/pandas-docs/stable/user_guide/indexing.html#returning-a-view-versus-a-copy\n",
      "  data[f'{ticker}'] = data[\"Close\"]\n"
     ]
    },
    {
     "name": "stdout",
     "output_type": "stream",
     "text": [
      "                  PFE\n",
      "Date                 \n",
      "2019-01-02  41.034157\n",
      "2019-01-03  39.886147\n",
      "2019-01-04  40.796963\n",
      "2019-01-07  41.015179\n",
      "2019-01-08  41.204933\n"
     ]
    },
    {
     "name": "stderr",
     "output_type": "stream",
     "text": [
      "[*********************100%%**********************]  1 of 1 completed\n",
      "C:\\Users\\Batuhan\\AppData\\Local\\Temp\\ipykernel_153036\\3781743562.py:4: SettingWithCopyWarning: \n",
      "A value is trying to be set on a copy of a slice from a DataFrame.\n",
      "Try using .loc[row_indexer,col_indexer] = value instead\n",
      "\n",
      "See the caveats in the documentation: https://pandas.pydata.org/pandas-docs/stable/user_guide/indexing.html#returning-a-view-versus-a-copy\n",
      "  data[f'{ticker}'] = data[\"Close\"]\n",
      "[*********************100%%**********************]  1 of 1 completed\n",
      "C:\\Users\\Batuhan\\AppData\\Local\\Temp\\ipykernel_153036\\3781743562.py:4: SettingWithCopyWarning: \n",
      "A value is trying to be set on a copy of a slice from a DataFrame.\n",
      "Try using .loc[row_indexer,col_indexer] = value instead\n",
      "\n",
      "See the caveats in the documentation: https://pandas.pydata.org/pandas-docs/stable/user_guide/indexing.html#returning-a-view-versus-a-copy\n",
      "  data[f'{ticker}'] = data[\"Close\"]\n"
     ]
    },
    {
     "name": "stdout",
     "output_type": "stream",
     "text": [
      "                   JNJ\n",
      "Date                  \n",
      "2019-01-02  127.750000\n",
      "2019-01-03  125.720001\n",
      "2019-01-04  127.830002\n",
      "2019-01-07  127.010002\n",
      "2019-01-08  129.960007\n",
      "                GOOGL\n",
      "Date                 \n",
      "2019-01-02  52.734001\n",
      "2019-01-03  51.273499\n",
      "2019-01-04  53.903500\n",
      "2019-01-07  53.796001\n",
      "2019-01-08  54.268501\n"
     ]
    },
    {
     "name": "stderr",
     "output_type": "stream",
     "text": [
      "[*********************100%%**********************]  1 of 1 completed\n",
      "C:\\Users\\Batuhan\\AppData\\Local\\Temp\\ipykernel_153036\\3781743562.py:4: SettingWithCopyWarning: \n",
      "A value is trying to be set on a copy of a slice from a DataFrame.\n",
      "Try using .loc[row_indexer,col_indexer] = value instead\n",
      "\n",
      "See the caveats in the documentation: https://pandas.pydata.org/pandas-docs/stable/user_guide/indexing.html#returning-a-view-versus-a-copy\n",
      "  data[f'{ticker}'] = data[\"Close\"]\n"
     ]
    },
    {
     "name": "stdout",
     "output_type": "stream",
     "text": [
      "                  MSFT\n",
      "Date                  \n",
      "2019-01-02  101.120003\n",
      "2019-01-03   97.400002\n",
      "2019-01-04  101.930000\n",
      "2019-01-07  102.059998\n",
      "2019-01-08  102.800003\n"
     ]
    },
    {
     "name": "stderr",
     "output_type": "stream",
     "text": [
      "[*********************100%%**********************]  1 of 1 completed\n",
      "C:\\Users\\Batuhan\\AppData\\Local\\Temp\\ipykernel_153036\\3781743562.py:4: SettingWithCopyWarning: \n",
      "A value is trying to be set on a copy of a slice from a DataFrame.\n",
      "Try using .loc[row_indexer,col_indexer] = value instead\n",
      "\n",
      "See the caveats in the documentation: https://pandas.pydata.org/pandas-docs/stable/user_guide/indexing.html#returning-a-view-versus-a-copy\n",
      "  data[f'{ticker}'] = data[\"Close\"]\n"
     ]
    },
    {
     "name": "stdout",
     "output_type": "stream",
     "text": [
      "                 AAPL\n",
      "Date                 \n",
      "2019-01-02  39.480000\n",
      "2019-01-03  35.547501\n",
      "2019-01-04  37.064999\n",
      "2019-01-07  36.982498\n",
      "2019-01-08  37.687500\n"
     ]
    },
    {
     "name": "stderr",
     "output_type": "stream",
     "text": [
      "[*********************100%%**********************]  1 of 1 completed\n",
      "C:\\Users\\Batuhan\\AppData\\Local\\Temp\\ipykernel_153036\\3781743562.py:4: SettingWithCopyWarning: \n",
      "A value is trying to be set on a copy of a slice from a DataFrame.\n",
      "Try using .loc[row_indexer,col_indexer] = value instead\n",
      "\n",
      "See the caveats in the documentation: https://pandas.pydata.org/pandas-docs/stable/user_guide/indexing.html#returning-a-view-versus-a-copy\n",
      "  data[f'{ticker}'] = data[\"Close\"]\n"
     ]
    },
    {
     "name": "stdout",
     "output_type": "stream",
     "text": [
      "                  COST\n",
      "Date                  \n",
      "2019-01-02  204.759995\n",
      "2019-01-03  200.419998\n",
      "2019-01-04  206.240005\n",
      "2019-01-07  207.000000\n",
      "2019-01-08  208.550003\n"
     ]
    },
    {
     "name": "stderr",
     "output_type": "stream",
     "text": [
      "[*********************100%%**********************]  1 of 1 completed\n",
      "C:\\Users\\Batuhan\\AppData\\Local\\Temp\\ipykernel_153036\\3781743562.py:4: SettingWithCopyWarning: \n",
      "A value is trying to be set on a copy of a slice from a DataFrame.\n",
      "Try using .loc[row_indexer,col_indexer] = value instead\n",
      "\n",
      "See the caveats in the documentation: https://pandas.pydata.org/pandas-docs/stable/user_guide/indexing.html#returning-a-view-versus-a-copy\n",
      "  data[f'{ticker}'] = data[\"Close\"]\n"
     ]
    },
    {
     "name": "stdout",
     "output_type": "stream",
     "text": [
      "                  WMT\n",
      "Date                 \n",
      "2019-01-02  31.113333\n",
      "2019-01-03  30.953333\n",
      "2019-01-04  31.146667\n",
      "2019-01-07  31.513332\n",
      "2019-01-08  31.733334\n"
     ]
    },
    {
     "name": "stderr",
     "output_type": "stream",
     "text": [
      "[*********************100%%**********************]  1 of 1 completed\n",
      "C:\\Users\\Batuhan\\AppData\\Local\\Temp\\ipykernel_153036\\3781743562.py:4: SettingWithCopyWarning: \n",
      "A value is trying to be set on a copy of a slice from a DataFrame.\n",
      "Try using .loc[row_indexer,col_indexer] = value instead\n",
      "\n",
      "See the caveats in the documentation: https://pandas.pydata.org/pandas-docs/stable/user_guide/indexing.html#returning-a-view-versus-a-copy\n",
      "  data[f'{ticker}'] = data[\"Close\"]\n"
     ]
    },
    {
     "name": "stdout",
     "output_type": "stream",
     "text": [
      "                   KR\n",
      "Date                 \n",
      "2019-01-02  27.299999\n",
      "2019-01-03  27.350000\n",
      "2019-01-04  27.660000\n",
      "2019-01-07  27.920000\n",
      "2019-01-08  28.459999\n"
     ]
    },
    {
     "name": "stderr",
     "output_type": "stream",
     "text": [
      "[*********************100%%**********************]  1 of 1 completed\n",
      "C:\\Users\\Batuhan\\AppData\\Local\\Temp\\ipykernel_153036\\3781743562.py:4: SettingWithCopyWarning: \n",
      "A value is trying to be set on a copy of a slice from a DataFrame.\n",
      "Try using .loc[row_indexer,col_indexer] = value instead\n",
      "\n",
      "See the caveats in the documentation: https://pandas.pydata.org/pandas-docs/stable/user_guide/indexing.html#returning-a-view-versus-a-copy\n",
      "  data[f'{ticker}'] = data[\"Close\"]\n"
     ]
    },
    {
     "name": "stdout",
     "output_type": "stream",
     "text": [
      "                   JPM\n",
      "Date                  \n",
      "2019-01-02   99.309998\n",
      "2019-01-03   97.110001\n",
      "2019-01-04  100.690002\n",
      "2019-01-07  100.760002\n",
      "2019-01-08  100.570000\n"
     ]
    },
    {
     "name": "stderr",
     "output_type": "stream",
     "text": [
      "[*********************100%%**********************]  1 of 1 completed\n",
      "C:\\Users\\Batuhan\\AppData\\Local\\Temp\\ipykernel_153036\\3781743562.py:4: SettingWithCopyWarning: \n",
      "A value is trying to be set on a copy of a slice from a DataFrame.\n",
      "Try using .loc[row_indexer,col_indexer] = value instead\n",
      "\n",
      "See the caveats in the documentation: https://pandas.pydata.org/pandas-docs/stable/user_guide/indexing.html#returning-a-view-versus-a-copy\n",
      "  data[f'{ticker}'] = data[\"Close\"]\n"
     ]
    },
    {
     "name": "stdout",
     "output_type": "stream",
     "text": [
      "                  BAC\n",
      "Date                 \n",
      "2019-01-02  24.959999\n",
      "2019-01-03  24.559999\n",
      "2019-01-04  25.580000\n",
      "2019-01-07  25.559999\n",
      "2019-01-08  25.510000\n"
     ]
    },
    {
     "name": "stderr",
     "output_type": "stream",
     "text": [
      "[*********************100%%**********************]  1 of 1 completed"
     ]
    },
    {
     "name": "stdout",
     "output_type": "stream",
     "text": [
      "                 HSBC\n",
      "Date                 \n",
      "2019-01-02  40.880001\n",
      "2019-01-03  40.430000\n",
      "2019-01-04  41.610001\n",
      "2019-01-07  41.049999\n",
      "2019-01-08  41.160000\n",
      "                 MRNA        PFE         JNJ      GOOGL        MSFT  \\\n",
      "Date                                                                  \n",
      "2019-01-02  15.330000  41.034157  127.750000  52.734001  101.120003   \n",
      "2019-01-03  15.500000  39.886147  125.720001  51.273499   97.400002   \n",
      "2019-01-04  16.959999  40.796963  127.830002  53.903500  101.930000   \n",
      "2019-01-07  16.270000  41.015179  127.010002  53.796001  102.059998   \n",
      "2019-01-08  16.950001  41.204933  129.960007  54.268501  102.800003   \n",
      "\n",
      "                 AAPL        COST        WMT         KR         JPM  \\\n",
      "Date                                                                  \n",
      "2019-01-02  39.480000  204.759995  31.113333  27.299999   99.309998   \n",
      "2019-01-03  35.547501  200.419998  30.953333  27.350000   97.110001   \n",
      "2019-01-04  37.064999  206.240005  31.146667  27.660000  100.690002   \n",
      "2019-01-07  36.982498  207.000000  31.513332  27.920000  100.760002   \n",
      "2019-01-08  37.687500  208.550003  31.733334  28.459999  100.570000   \n",
      "\n",
      "                  BAC       HSBC  \n",
      "Date                              \n",
      "2019-01-02  24.959999  40.880001  \n",
      "2019-01-03  24.559999  40.430000  \n",
      "2019-01-04  25.580000  41.610001  \n",
      "2019-01-07  25.559999  41.049999  \n",
      "2019-01-08  25.510000  41.160000  \n"
     ]
    },
    {
     "name": "stderr",
     "output_type": "stream",
     "text": [
      "\n",
      "C:\\Users\\Batuhan\\AppData\\Local\\Temp\\ipykernel_153036\\3781743562.py:4: SettingWithCopyWarning: \n",
      "A value is trying to be set on a copy of a slice from a DataFrame.\n",
      "Try using .loc[row_indexer,col_indexer] = value instead\n",
      "\n",
      "See the caveats in the documentation: https://pandas.pydata.org/pandas-docs/stable/user_guide/indexing.html#returning-a-view-versus-a-copy\n",
      "  data[f'{ticker}'] = data[\"Close\"]\n"
     ]
    }
   ],
   "source": [
    "stocks = [\"MRNA\", \"PFE\", \"JNJ\", \"GOOGL\", \n",
    "          \"MSFT\", \"AAPL\", \"COST\", \"WMT\", \"KR\", \"JPM\", \n",
    "          \"BAC\", \"HSBC\"]\n",
    "portfolio = combine_stocks(stocks)"
   ]
  },
  {
   "cell_type": "markdown",
   "metadata": {},
   "source": [
    "We now have a single dataframe of returns for our stocks. Let’s write this dataframe to a csv so we can easily read in the data without repeatedly having to pull it using the Pandas-Datareader. \n"
   ]
  },
  {
   "cell_type": "code",
   "execution_count": 20,
   "metadata": {},
   "outputs": [],
   "source": [
    "portfolio.to_csv(\"portfolio.csv\", index=False)\n",
    "\n",
    "#Now, let’s read in our csv:\n",
    "\n",
    "portfolio = pd.read_csv(\"portfolio.csv\")"
   ]
  },
  {
   "cell_type": "markdown",
   "metadata": {},
   "source": [
    "## Mean Variance Optimization"
   ]
  },
  {
   "cell_type": "markdown",
   "metadata": {},
   "source": [
    "**pip install PyPortfolioOpt** Please upload this libary inisde of Terminal"
   ]
  },
  {
   "cell_type": "markdown",
   "metadata": {},
   "source": [
    "Now, let’s calculate the covariance matrix and store the calculated returns in variables S and mu, respectively:"
   ]
  },
  {
   "cell_type": "code",
   "execution_count": 21,
   "metadata": {},
   "outputs": [],
   "source": [
    "from pypfopt.expected_returns import mean_historical_return\n",
    "from pypfopt.risk_models import CovarianceShrinkage\n",
    "\n",
    "\n",
    "mu = mean_historical_return(portfolio)\n",
    "S = CovarianceShrinkage(portfolio).ledoit_wolf()"
   ]
  },
  {
   "cell_type": "markdown",
   "metadata": {},
   "source": [
    "Next, let’s import the EfficientFrontier module and calculate the weights. Here, we will use the max Sharpe statistic. The Sharpe ratio is the ratio between returns and risk. The lower the risk and the higher the returns, the higher the Sharpe ratio. The algorithm looks for the maximum Sharpe ratio, which translates to the portfolio with the highest return and lowest risk. Ultimately, the higher the Sharpe ratio, the better the performance of the portfolio. "
   ]
  },
  {
   "cell_type": "code",
   "execution_count": 22,
   "metadata": {},
   "outputs": [
    {
     "name": "stdout",
     "output_type": "stream",
     "text": [
      "{'MRNA': 0.09243, 'PFE': 0.0, 'JNJ': 0.0, 'GOOGL': 0.0, 'MSFT': 0.14485, 'AAPL': 0.19979, 'COST': 0.49321, 'WMT': 0.0, 'KR': 0.06973, 'JPM': 0.0, 'BAC': 0.0, 'HSBC': 0.0}\n"
     ]
    }
   ],
   "source": [
    "from pypfopt.efficient_frontier import EfficientFrontier\n",
    "\n",
    "ef = EfficientFrontier(mu, S)\n",
    "weights = ef.max_sharpe()\n",
    "\n",
    "cleaned_weights = ef.clean_weights()\n",
    "print(dict(cleaned_weights))"
   ]
  },
  {
   "cell_type": "markdown",
   "metadata": {},
   "source": [
    "We can also display portfolio performance:"
   ]
  },
  {
   "cell_type": "code",
   "execution_count": 23,
   "metadata": {},
   "outputs": [
    {
     "name": "stdout",
     "output_type": "stream",
     "text": [
      "Expected annual return: 29.8%\n",
      "Annual volatility: 22.4%\n",
      "Sharpe Ratio: 1.24\n"
     ]
    },
    {
     "data": {
      "text/plain": [
       "(0.29811983686203747, 0.22367683372741642, 1.243400276315463)"
      ]
     },
     "execution_count": 23,
     "metadata": {},
     "output_type": "execute_result"
    }
   ],
   "source": [
    "ef.portfolio_performance(verbose=True)"
   ]
  },
  {
   "cell_type": "code",
   "execution_count": 24,
   "metadata": {},
   "outputs": [
    {
     "data": {
      "text/html": [
       "<div>\n",
       "<style scoped>\n",
       "    .dataframe tbody tr th:only-of-type {\n",
       "        vertical-align: middle;\n",
       "    }\n",
       "\n",
       "    .dataframe tbody tr th {\n",
       "        vertical-align: top;\n",
       "    }\n",
       "\n",
       "    .dataframe thead th {\n",
       "        text-align: right;\n",
       "    }\n",
       "</style>\n",
       "<table border=\"1\" class=\"dataframe\">\n",
       "  <thead>\n",
       "    <tr style=\"text-align: right;\">\n",
       "      <th></th>\n",
       "      <th>MRNA</th>\n",
       "      <th>PFE</th>\n",
       "      <th>JNJ</th>\n",
       "      <th>GOOGL</th>\n",
       "      <th>MSFT</th>\n",
       "      <th>AAPL</th>\n",
       "      <th>COST</th>\n",
       "      <th>WMT</th>\n",
       "      <th>KR</th>\n",
       "      <th>JPM</th>\n",
       "      <th>BAC</th>\n",
       "      <th>HSBC</th>\n",
       "    </tr>\n",
       "  </thead>\n",
       "  <tbody>\n",
       "    <tr>\n",
       "      <th>0</th>\n",
       "      <td>15.330000</td>\n",
       "      <td>41.034157</td>\n",
       "      <td>127.750000</td>\n",
       "      <td>52.734001</td>\n",
       "      <td>101.120003</td>\n",
       "      <td>39.480000</td>\n",
       "      <td>204.759995</td>\n",
       "      <td>31.113333</td>\n",
       "      <td>27.299999</td>\n",
       "      <td>99.309998</td>\n",
       "      <td>24.959999</td>\n",
       "      <td>40.880001</td>\n",
       "    </tr>\n",
       "    <tr>\n",
       "      <th>1</th>\n",
       "      <td>15.500000</td>\n",
       "      <td>39.886147</td>\n",
       "      <td>125.720001</td>\n",
       "      <td>51.273499</td>\n",
       "      <td>97.400002</td>\n",
       "      <td>35.547501</td>\n",
       "      <td>200.419998</td>\n",
       "      <td>30.953333</td>\n",
       "      <td>27.350000</td>\n",
       "      <td>97.110001</td>\n",
       "      <td>24.559999</td>\n",
       "      <td>40.430000</td>\n",
       "    </tr>\n",
       "    <tr>\n",
       "      <th>2</th>\n",
       "      <td>16.959999</td>\n",
       "      <td>40.796963</td>\n",
       "      <td>127.830002</td>\n",
       "      <td>53.903500</td>\n",
       "      <td>101.930000</td>\n",
       "      <td>37.064999</td>\n",
       "      <td>206.240005</td>\n",
       "      <td>31.146667</td>\n",
       "      <td>27.660000</td>\n",
       "      <td>100.690002</td>\n",
       "      <td>25.580000</td>\n",
       "      <td>41.610001</td>\n",
       "    </tr>\n",
       "    <tr>\n",
       "      <th>3</th>\n",
       "      <td>16.270000</td>\n",
       "      <td>41.015179</td>\n",
       "      <td>127.010002</td>\n",
       "      <td>53.796001</td>\n",
       "      <td>102.059998</td>\n",
       "      <td>36.982498</td>\n",
       "      <td>207.000000</td>\n",
       "      <td>31.513332</td>\n",
       "      <td>27.920000</td>\n",
       "      <td>100.760002</td>\n",
       "      <td>25.559999</td>\n",
       "      <td>41.049999</td>\n",
       "    </tr>\n",
       "    <tr>\n",
       "      <th>4</th>\n",
       "      <td>16.950001</td>\n",
       "      <td>41.204933</td>\n",
       "      <td>129.960007</td>\n",
       "      <td>54.268501</td>\n",
       "      <td>102.800003</td>\n",
       "      <td>37.687500</td>\n",
       "      <td>208.550003</td>\n",
       "      <td>31.733334</td>\n",
       "      <td>28.459999</td>\n",
       "      <td>100.570000</td>\n",
       "      <td>25.510000</td>\n",
       "      <td>41.160000</td>\n",
       "    </tr>\n",
       "    <tr>\n",
       "      <th>...</th>\n",
       "      <td>...</td>\n",
       "      <td>...</td>\n",
       "      <td>...</td>\n",
       "      <td>...</td>\n",
       "      <td>...</td>\n",
       "      <td>...</td>\n",
       "      <td>...</td>\n",
       "      <td>...</td>\n",
       "      <td>...</td>\n",
       "      <td>...</td>\n",
       "      <td>...</td>\n",
       "      <td>...</td>\n",
       "    </tr>\n",
       "    <tr>\n",
       "      <th>1300</th>\n",
       "      <td>96.000000</td>\n",
       "      <td>25.889999</td>\n",
       "      <td>159.839996</td>\n",
       "      <td>133.350006</td>\n",
       "      <td>414.920013</td>\n",
       "      <td>175.100006</td>\n",
       "      <td>759.179993</td>\n",
       "      <td>59.299999</td>\n",
       "      <td>49.369999</td>\n",
       "      <td>186.679993</td>\n",
       "      <td>35.150002</td>\n",
       "      <td>38.779999</td>\n",
       "    </tr>\n",
       "    <tr>\n",
       "      <th>1301</th>\n",
       "      <td>95.559998</td>\n",
       "      <td>26.080000</td>\n",
       "      <td>159.970001</td>\n",
       "      <td>132.669998</td>\n",
       "      <td>402.649994</td>\n",
       "      <td>170.119995</td>\n",
       "      <td>759.950012</td>\n",
       "      <td>60.040001</td>\n",
       "      <td>49.480000</td>\n",
       "      <td>188.550003</td>\n",
       "      <td>35.389999</td>\n",
       "      <td>38.930000</td>\n",
       "    </tr>\n",
       "    <tr>\n",
       "      <th>1302</th>\n",
       "      <td>98.099998</td>\n",
       "      <td>27.190001</td>\n",
       "      <td>159.339996</td>\n",
       "      <td>131.399994</td>\n",
       "      <td>402.089996</td>\n",
       "      <td>169.119995</td>\n",
       "      <td>773.239990</td>\n",
       "      <td>60.570000</td>\n",
       "      <td>50.490002</td>\n",
       "      <td>189.529999</td>\n",
       "      <td>35.419998</td>\n",
       "      <td>39.230000</td>\n",
       "    </tr>\n",
       "    <tr>\n",
       "      <th>1303</th>\n",
       "      <td>99.480003</td>\n",
       "      <td>26.790001</td>\n",
       "      <td>158.869995</td>\n",
       "      <td>134.380005</td>\n",
       "      <td>409.140015</td>\n",
       "      <td>169.000000</td>\n",
       "      <td>785.590027</td>\n",
       "      <td>60.360001</td>\n",
       "      <td>55.480000</td>\n",
       "      <td>187.869995</td>\n",
       "      <td>35.630001</td>\n",
       "      <td>37.880001</td>\n",
       "    </tr>\n",
       "    <tr>\n",
       "      <th>1304</th>\n",
       "      <td>103.029999</td>\n",
       "      <td>27.219999</td>\n",
       "      <td>159.520004</td>\n",
       "      <td>135.410004</td>\n",
       "      <td>406.220001</td>\n",
       "      <td>170.729996</td>\n",
       "      <td>725.559998</td>\n",
       "      <td>60.119999</td>\n",
       "      <td>55.970001</td>\n",
       "      <td>188.220001</td>\n",
       "      <td>35.599998</td>\n",
       "      <td>37.439999</td>\n",
       "    </tr>\n",
       "  </tbody>\n",
       "</table>\n",
       "<p>1305 rows × 12 columns</p>\n",
       "</div>"
      ],
      "text/plain": [
       "            MRNA        PFE         JNJ       GOOGL        MSFT        AAPL  \\\n",
       "0      15.330000  41.034157  127.750000   52.734001  101.120003   39.480000   \n",
       "1      15.500000  39.886147  125.720001   51.273499   97.400002   35.547501   \n",
       "2      16.959999  40.796963  127.830002   53.903500  101.930000   37.064999   \n",
       "3      16.270000  41.015179  127.010002   53.796001  102.059998   36.982498   \n",
       "4      16.950001  41.204933  129.960007   54.268501  102.800003   37.687500   \n",
       "...          ...        ...         ...         ...         ...         ...   \n",
       "1300   96.000000  25.889999  159.839996  133.350006  414.920013  175.100006   \n",
       "1301   95.559998  26.080000  159.970001  132.669998  402.649994  170.119995   \n",
       "1302   98.099998  27.190001  159.339996  131.399994  402.089996  169.119995   \n",
       "1303   99.480003  26.790001  158.869995  134.380005  409.140015  169.000000   \n",
       "1304  103.029999  27.219999  159.520004  135.410004  406.220001  170.729996   \n",
       "\n",
       "            COST        WMT         KR         JPM        BAC       HSBC  \n",
       "0     204.759995  31.113333  27.299999   99.309998  24.959999  40.880001  \n",
       "1     200.419998  30.953333  27.350000   97.110001  24.559999  40.430000  \n",
       "2     206.240005  31.146667  27.660000  100.690002  25.580000  41.610001  \n",
       "3     207.000000  31.513332  27.920000  100.760002  25.559999  41.049999  \n",
       "4     208.550003  31.733334  28.459999  100.570000  25.510000  41.160000  \n",
       "...          ...        ...        ...         ...        ...        ...  \n",
       "1300  759.179993  59.299999  49.369999  186.679993  35.150002  38.779999  \n",
       "1301  759.950012  60.040001  49.480000  188.550003  35.389999  38.930000  \n",
       "1302  773.239990  60.570000  50.490002  189.529999  35.419998  39.230000  \n",
       "1303  785.590027  60.360001  55.480000  187.869995  35.630001  37.880001  \n",
       "1304  725.559998  60.119999  55.970001  188.220001  35.599998  37.439999  \n",
       "\n",
       "[1305 rows x 12 columns]"
      ]
     },
     "execution_count": 24,
     "metadata": {},
     "output_type": "execute_result"
    }
   ],
   "source": [
    "portfolio"
   ]
  },
  {
   "cell_type": "markdown",
   "metadata": {},
   "source": [
    "Finally, let’s convert the weights into actual allocations values (i.e., how many of each stock to buy). For our allocation, let’s consider an investment amount of $100,000:"
   ]
  },
  {
   "cell_type": "code",
   "execution_count": 25,
   "metadata": {},
   "outputs": [
    {
     "name": "stdout",
     "output_type": "stream",
     "text": [
      "Discrete allocation: {'COST': 68, 'AAPL': 117, 'MSFT': 35, 'MRNA': 90, 'KR': 125}\n",
      "Funds remaining: $199.86\n"
     ]
    }
   ],
   "source": [
    "from pypfopt.discrete_allocation import DiscreteAllocation, get_latest_prices\n",
    "\n",
    "latest_prices = get_latest_prices(portfolio)\n",
    "\n",
    "da = DiscreteAllocation(weights, latest_prices, total_portfolio_value=100000)\n",
    "\n",
    "allocation, leftover = da.greedy_portfolio()\n",
    "print(\"Discrete allocation:\", allocation)\n",
    "print(\"Funds remaining: ${:.2f}\".format(leftover))"
   ]
  },
  {
   "cell_type": "markdown",
   "metadata": {},
   "source": [
    "Our algorithm says we should invest in 90 shares of MRNA, 35 shares of MSFT, 117 shares of AAPL and 125 shares of KR. \n",
    "\n",
    "We see that our portfolio performs with an expected annual return of 125 percent. This performance is due to the rapid growth of Moderna during the pandemic. Further, the Sharpe ratio value of 5.02 indicates that the portfolio optimization algorithm performs well with our current data. Of course, this return is inflated and is not likely to hold up in the future. \n",
    "\n",
    "Mean variance optimization doesn’t perform very well since it makes many simplifying assumptions, such as returns being normally distributed and the need for an invertible covariance matrix. Fortunately, methods like HRP and mCVAR address these limitations. "
   ]
  },
  {
   "cell_type": "markdown",
   "metadata": {},
   "source": [
    "## Hierarchical Risk Parity (HRP)"
   ]
  },
  {
   "cell_type": "markdown",
   "metadata": {},
   "source": [
    "The HRP method works by finding subclusters of similar assets based on returns and constructing a hierarchy from these clusters to generate weights for each asset. "
   ]
  },
  {
   "cell_type": "code",
   "execution_count": 27,
   "metadata": {},
   "outputs": [
    {
     "name": "stdout",
     "output_type": "stream",
     "text": [
      "Expected annual return: 14.6%\n",
      "Annual volatility: 17.0%\n",
      "Sharpe Ratio: 0.74\n",
      "{'AAPL': 0.04327661197033801, 'BAC': 0.058823069826983945, 'COST': 0.0819700179904097, 'GOOGL': 0.04384106797270626, 'HSBC': 0.06134639415514409, 'JNJ': 0.214609631461112, 'JPM': 0.05175059384646395, 'KR': 0.112081871114903, 'MRNA': 0.02016684498594857, 'MSFT': 0.08147984476209509, 'PFE': 0.13456937454359905, 'WMT': 0.09608467737029636}\n"
     ]
    },
    {
     "name": "stderr",
     "output_type": "stream",
     "text": [
      "C:\\Users\\Batuhan\\AppData\\Local\\Packages\\PythonSoftwareFoundation.Python.3.11_qbz5n2kfra8p0\\LocalCache\\local-packages\\Python311\\site-packages\\pypfopt\\hierarchical_portfolio.py:138: FutureWarning: Setting an item of incompatible dtype is deprecated and will raise an error in a future version of pandas. Value '[0.59452471 0.59452471 0.59452471 0.59452471 0.59452471 0.59452471]' has dtype incompatible with int64, please explicitly cast to a compatible dtype first.\n",
      "  w[first_cluster] *= alpha  # weight 1\n"
     ]
    }
   ],
   "source": [
    "from pypfopt import HRPOpt\n",
    "\n",
    "# We need to calculate the returns:\n",
    "returns = portfolio.pct_change().dropna()\n",
    "\n",
    "#Then run the optimization algorithm to get the weights:\n",
    "hrp = HRPOpt(returns)\n",
    "hrp_weights = hrp.optimize()\n",
    "\n",
    "#We can now print the performance of the portfolio and the weights:\n",
    "hrp.portfolio_performance(verbose=True)\n",
    "print(dict(hrp_weights))"
   ]
  },
  {
   "cell_type": "markdown",
   "metadata": {},
   "source": [
    "We see that we have an expected annual return of 14.6 percent, which is significantly less than the inflated 125 percent we achieved with mean variance optimization. We also see a diminished Sharpe ratio of 0.74.  This result is much more reasonable and more likely to hold up in the future since HRP is not as sensitive to outliers as mean variance optimization is. "
   ]
  },
  {
   "cell_type": "code",
   "execution_count": 28,
   "metadata": {},
   "outputs": [
    {
     "name": "stdout",
     "output_type": "stream",
     "text": [
      "Discrete allocation (HRP): {'JNJ': 134, 'PFE': 494, 'KR': 200, 'WMT': 160, 'COST': 11, 'MSFT': 20, 'HSBC': 164, 'BAC': 165, 'JPM': 28, 'GOOGL': 33, 'AAPL': 26, 'MRNA': 20}\n",
      "Funds remaining (HRP): $6.45\n"
     ]
    }
   ],
   "source": [
    "da_hrp = DiscreteAllocation(hrp_weights, latest_prices, total_portfolio_value=100000)\n",
    "\n",
    "allocation, leftover = da_hrp.greedy_portfolio()\n",
    "print(\"Discrete allocation (HRP):\", allocation)\n",
    "print(\"Funds remaining (HRP): ${:.2f}\".format(leftover))"
   ]
  },
  {
   "cell_type": "markdown",
   "metadata": {},
   "source": [
    "## Mean Conditional Value at Risk (mCVAR)"
   ]
  },
  {
   "cell_type": "markdown",
   "metadata": {},
   "source": [
    "The mCVAR is another popular alternative to mean variance optimization. It works by measuring the worst-case scenarios for each asset in the portfolio, which is represented here by losing the most money. The worst-case loss for each asset is then used to calculate weights to be used for allocation for each asset. "
   ]
  },
  {
   "cell_type": "code",
   "execution_count": 29,
   "metadata": {},
   "outputs": [
    {
     "name": "stdout",
     "output_type": "stream",
     "text": [
      "{'MRNA': 0.0, 'PFE': 0.0, 'JNJ': 0.0, 'GOOGL': 0.0, 'MSFT': 0.0, 'AAPL': 0.0, 'COST': 1.0, 'WMT': 0.0, 'KR': 0.0, 'JPM': 0.0, 'BAC': 0.0, 'HSBC': 0.0}\n"
     ]
    },
    {
     "name": "stderr",
     "output_type": "stream",
     "text": [
      "C:\\Users\\Batuhan\\AppData\\Local\\Packages\\PythonSoftwareFoundation.Python.3.11_qbz5n2kfra8p0\\LocalCache\\local-packages\\Python311\\site-packages\\cvxpy\\reductions\\solvers\\solving_chain.py:336: FutureWarning: \n",
      "    Your problem is being solved with the ECOS solver by default. Starting in \n",
      "    CVXPY 1.5.0, Clarabel will be used as the default solver instead. To continue \n",
      "    using ECOS, specify the ECOS solver explicitly using the ``solver=cp.ECOS`` \n",
      "    argument to the ``problem.solve`` method.\n",
      "    \n",
      "  warnings.warn(ECOS_DEPRECATION_MSG, FutureWarning)\n"
     ]
    }
   ],
   "source": [
    "from pypfopt.efficient_frontier import EfficientCVaR\n",
    "\n",
    "#Calculate the weights and get the performance:\n",
    "S = portfolio.cov()\n",
    "ef_cvar = EfficientCVaR(mu, S)\n",
    "cvar_weights = ef_cvar.min_cvar()\n",
    "\n",
    "cleaned_weights = ef_cvar.clean_weights()\n",
    "print(dict(cleaned_weights))"
   ]
  },
  {
   "cell_type": "code",
   "execution_count": 30,
   "metadata": {},
   "outputs": [
    {
     "name": "stdout",
     "output_type": "stream",
     "text": [
      "Discrete allocation (CVAR): {'COST': 137, 'HSBC': 1, 'JPM': 1, 'GOOGL': 1, 'KR': 1, 'BAC': 1, 'WMT': 1, 'PFE': 1}\n",
      "Funds remaining (CVAR): $58.30\n"
     ]
    }
   ],
   "source": [
    "# Next, get the discrete allocation:\n",
    "da_cvar = DiscreteAllocation(cvar_weights, latest_prices, total_portfolio_value=100000)\n",
    "\n",
    "allocation, leftover = da_cvar.greedy_portfolio()\n",
    "print(\"Discrete allocation (CVAR):\", allocation)\n",
    "print(\"Funds remaining (CVAR): ${:.2f}\".format(leftover))"
   ]
  },
  {
   "cell_type": "markdown",
   "metadata": {},
   "source": [
    "Although we only considered healthcare, tech, retail and finance, the methods we discussed can easily be modified to consider additional industries. For example, maybe you are more interested in constructing a portfolio of companies in the energy, real estate and materials industry. An example of this sort of portfolio could be made up of stocks such as Exxonmobil (XOM), DuPont (DD), and American Tower (AMT). I encourage you to play around with different sectors in constructing your portfolio. \n",
    "\n",
    "What we discussed provides a solid foundation for those interested in portfolio optimization methods in Python. Having a knowledge of both the methods and the tools available for portfolio optimization can allow quants and data scientists to run quicker experiments for optimizing investment portfolio."
   ]
  }
 ],
 "metadata": {
  "kernelspec": {
   "display_name": "Python 3",
   "language": "python",
   "name": "python3"
  },
  "language_info": {
   "codemirror_mode": {
    "name": "ipython",
    "version": 3
   },
   "file_extension": ".py",
   "mimetype": "text/x-python",
   "name": "python",
   "nbconvert_exporter": "python",
   "pygments_lexer": "ipython3",
   "version": "3.11.8"
  }
 },
 "nbformat": 4,
 "nbformat_minor": 2
}
